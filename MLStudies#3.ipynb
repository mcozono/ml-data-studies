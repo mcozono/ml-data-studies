{
  "nbformat": 4,
  "nbformat_minor": 0,
  "metadata": {
    "colab": {
      "name": "Untitled3.ipynb",
      "provenance": [],
      "include_colab_link": true
    },
    "kernelspec": {
      "name": "python3",
      "display_name": "Python 3"
    },
    "language_info": {
      "name": "python"
    }
  },
  "cells": [
    {
      "cell_type": "markdown",
      "metadata": {
        "id": "view-in-github",
        "colab_type": "text"
      },
      "source": [
        "<a href=\"https://colab.research.google.com/github/mcozono/ml-data-studies/blob/main/MLStudies%233.ipynb\" target=\"_parent\"><img src=\"https://colab.research.google.com/assets/colab-badge.svg\" alt=\"Open In Colab\"/></a>"
      ]
    },
    {
      "cell_type": "markdown",
      "metadata": {
        "id": "974c81K0B8HY"
      },
      "source": [
        "#using Numpy\n"
      ]
    },
    {
      "cell_type": "code",
      "metadata": {
        "id": "5CPH1GrpCAkE"
      },
      "source": [
        "import numpy as np\n"
      ],
      "execution_count": 9,
      "outputs": []
    },
    {
      "cell_type": "code",
      "metadata": {
        "colab": {
          "base_uri": "https://localhost:8080/"
        },
        "id": "ptnqVuqvCEoM",
        "outputId": "4b9e48da-c1d8-48f1-8159-3a2666d2883d"
      },
      "source": [
        "pythonArray = [[1,2,3],[9,8,7]]\n",
        "npArray = np.array(pythonArray)\n",
        "print(npArray.shape)\n",
        "print(npArray[0])\n",
        "print(npArray[0,:])"
      ],
      "execution_count": 18,
      "outputs": [
        {
          "output_type": "stream",
          "name": "stdout",
          "text": [
            "(2, 3)\n",
            "[1 2 3]\n",
            "[1 2 3]\n"
          ]
        }
      ]
    },
    {
      "cell_type": "markdown",
      "metadata": {
        "id": "fX6Ry8XiKbb7"
      },
      "source": [
        "#using MatPlotLib"
      ]
    },
    {
      "cell_type": "code",
      "metadata": {
        "id": "_syxZZy4Kgy3"
      },
      "source": [
        "import matplotlib.pyplot as plt\n"
      ],
      "execution_count": 19,
      "outputs": []
    },
    {
      "cell_type": "code",
      "metadata": {
        "colab": {
          "base_uri": "https://localhost:8080/",
          "height": 308
        },
        "id": "J93JygeMKtLn",
        "outputId": "2a26b0f9-9a8e-4a10-95eb-f29836c52453"
      },
      "source": [
        "plt.plot([1,2,3,4],[5,10,15,20])\n",
        "plt.title(\"Linear Relationship with Matplotlib\", fontsize=20)\n",
        "plt.xlabel(\"X Axis\", fontsize=20)\n",
        "plt.ylabel(\"Y Axis\", fontsize=20)\n",
        "plt.show()\n"
      ],
      "execution_count": 22,
      "outputs": [
        {
          "output_type": "display_data",
          "data": {
            "image/png": "[encoded data removed]",
            "text/plain": [
              "<Figure size 432x288 with 1 Axes>"
            ]
          },
          "metadata": {
            "needs_background": "light"
          }
        }
      ]
    },
    {
      "cell_type": "markdown",
      "metadata": {
        "id": "fyurr1Vi3SlQ"
      },
      "source": [
        "Module 2"
      ]
    },
    {
      "cell_type": "code",
      "metadata": {
        "id": "q2OAqk7SyTm1",
        "colab": {
          "base_uri": "https://localhost:8080/"
        },
        "outputId": "77f98c65-2f98-4045-8980-c4e84afa5fd9"
      },
      "source": [
        "print(\"Building Your First ML Solution\")"
      ],
      "execution_count": 1,
      "outputs": [
        {
          "output_type": "stream",
          "name": "stdout",
          "text": [
            "Building Your First ML Solution\n"
          ]
        }
      ]
    },
    {
      "cell_type": "markdown",
      "metadata": {
        "id": "0ODwS22t3g4N"
      },
      "source": [
        "#Module 3"
      ]
    },
    {
      "cell_type": "code",
      "metadata": {
        "id": "eOpe8S843gN_"
      },
      "source": [
        "import pandas as pd\n"
      ],
      "execution_count": 3,
      "outputs": []
    },
    {
      "cell_type": "code",
      "metadata": {
        "id": "sR23nXgv9SVe"
      },
      "source": [
        "filename = \"/content/forestfires.csv\"\n",
        "names = ['X','Y','month','day','FFMC','DMC','DC',\n",
        "         'ISI','temp','RH','wind','rain','area']"
      ],
      "execution_count": 6,
      "outputs": []
    },
    {
      "cell_type": "code",
      "metadata": {
        "colab": {
          "base_uri": "https://localhost:8080/"
        },
        "id": "IXEovkJR-JRX",
        "outputId": "705b3b07-206d-4d59-98ab-8efb7d8dc7c0"
      },
      "source": [
        "df = pd.read_csv(filename,names=names)\n",
        "print(pd.isnull(df).sum())"
      ],
      "execution_count": 8,
      "outputs": [
        {
          "output_type": "stream",
          "name": "stdout",
          "text": [
            "X        0\n",
            "Y        0\n",
            "month    0\n",
            "day      0\n",
            "FFMC     0\n",
            "DMC      0\n",
            "DC       0\n",
            "ISI      0\n",
            "temp     0\n",
            "RH       0\n",
            "wind     0\n",
            "rain     0\n",
            "area     0\n",
            "dtype: int64\n"
          ]
        }
      ]
    },
    {
      "cell_type": "code",
      "metadata": {
        "id": "iMjkkdTLIi6p"
      },
      "source": [
        "from google.colab import drive\n",
        "drive.mount('/content/drive')"
      ],
      "execution_count": null,
      "outputs": []
    },
    {
      "cell_type": "markdown",
      "metadata": {
        "id": "v7z14HJ5PdyS"
      },
      "source": [
        "#Module 4"
      ]
    },
    {
      "cell_type": "code",
      "metadata": {
        "id": "Y-tWKCwTPouK"
      },
      "source": [
        "import pandas as pd\n",
        "import numpy as np\n"
      ],
      "execution_count": 1,
      "outputs": []
    },
    {
      "cell_type": "code",
      "metadata": {
        "id": "cntl3-iLPvFi"
      },
      "source": [
        "pd.set_option(\"display.max_rows\",500)\n",
        "pd.set_option(\"display.max_columns\",500)"
      ],
      "execution_count": 2,
      "outputs": []
    },
    {
      "cell_type": "code",
      "metadata": {
        "id": "nXBjZKzaGzDs"
      },
      "source": [
        "filename = \"/content/forestfires.csv\"\n",
        "names = ['X','Y','month','day','FFMC','DMC','DC',\n",
        "         'ISI','temp','RH','wind','rain','area']\n",
        "\n",
        "df = pd.read_csv(filename)"
      ],
      "execution_count": 13,
      "outputs": []
    },
    {
      "cell_type": "markdown",
      "metadata": {
        "id": "uZmM74EyZZNn"
      },
      "source": [
        "##Descriptive Statistics"
      ]
    },
    {
      "cell_type": "code",
      "metadata": {
        "id": "zv95ddwjGN6t"
      },
      "source": [
        "print('Wrangling month and day of week')\n",
        "df.month.replace(('jan','feb','mar','apr','may','jun','jul','aug','sep','oct','nov','dec'),(1,2,3,4,5,6,7,8,9,10,11,12),inplace=True)\n",
        "df.day.replace(('mon','tue','wed','thu','fri','sat','sun'),(1,2,3,4,5,6,7),inplace=True)"
      ],
      "execution_count": 14,
      "outputs": []
    },
    {
      "cell_type": "code",
      "metadata": {
        "colab": {
          "base_uri": "https://localhost:8080/"
        },
        "id": "6UVvNCRwZiYU",
        "outputId": "c7b2f856-74ee-4727-bbb8-7ba6fb748ac5"
      },
      "source": [
        "\n",
        "print(\"Checking lines and columns of the dataframe\")\n",
        "print(df.shape)\n",
        "print(\"Checking the type of the data of the columns of loaded dataframe\")\n",
        "print(df.dtypes)\n",
        "print(\"Print the head of dataset\")\n",
        "print(df.head())\n",
        "print(\"Print the descriptive statistic of the dataset\")\n",
        "print(df.describe())\n"
      ],
      "execution_count": 15,
      "outputs": [
        {
          "output_type": "stream",
          "name": "stdout",
          "text": [
            "Checking lines and columns of the dataframe\n",
            "(517, 13)\n",
            "Checking the type of the data of the columns of loaded dataframe\n",
            "X          int64\n",
            "Y          int64\n",
            "month      int64\n",
            "day        int64\n",
            "FFMC     float64\n",
            "DMC      float64\n",
            "DC       float64\n",
            "ISI      float64\n",
            "temp     float64\n",
            "RH         int64\n",
            "wind     float64\n",
            "rain     float64\n",
            "area     float64\n",
            "dtype: object\n",
            "Print the head of dataset\n",
            "   X  Y  month  day  FFMC   DMC     DC  ISI  temp  RH  wind  rain  area\n",
            "0  7  5      3    5  86.2  26.2   94.3  5.1   8.2  51   6.7   0.0   0.0\n",
            "1  7  4     10    2  90.6  35.4  669.1  6.7  18.0  33   0.9   0.0   0.0\n",
            "2  7  4     10    6  90.6  43.7  686.9  6.7  14.6  33   1.3   0.0   0.0\n",
            "3  8  6      3    5  91.7  33.3   77.5  9.0   8.3  97   4.0   0.2   0.0\n",
            "4  8  6      3    7  89.3  51.3  102.2  9.6  11.4  99   1.8   0.0   0.0\n",
            "Print the descriptive statistic of the dataset\n",
            "                X           Y       month         day        FFMC         DMC  \\\n",
            "count  517.000000  517.000000  517.000000  517.000000  517.000000  517.000000   \n",
            "mean     4.669246    4.299807    7.475822    4.259188   90.644681  110.872340   \n",
            "std      2.313778    1.229900    2.275990    2.072929    5.520111   64.046482   \n",
            "min      1.000000    2.000000    1.000000    1.000000   18.700000    1.100000   \n",
            "25%      3.000000    4.000000    7.000000    2.000000   90.200000   68.600000   \n",
            "50%      4.000000    4.000000    8.000000    5.000000   91.600000  108.300000   \n",
            "75%      7.000000    5.000000    9.000000    6.000000   92.900000  142.400000   \n",
            "max      9.000000    9.000000   12.000000    7.000000   96.200000  291.300000   \n",
            "\n",
            "               DC         ISI        temp          RH        wind        rain  \\\n",
            "count  517.000000  517.000000  517.000000  517.000000  517.000000  517.000000   \n",
            "mean   547.940039    9.021663   18.889168   44.288201    4.017602    0.021663   \n",
            "std    248.066192    4.559477    5.806625   16.317469    1.791653    0.295959   \n",
            "min      7.900000    0.000000    2.200000   15.000000    0.400000    0.000000   \n",
            "25%    437.700000    6.500000   15.500000   33.000000    2.700000    0.000000   \n",
            "50%    664.200000    8.400000   19.300000   42.000000    4.000000    0.000000   \n",
            "75%    713.900000   10.800000   22.800000   53.000000    4.900000    0.000000   \n",
            "max    860.600000   56.100000   33.300000  100.000000    9.400000    6.400000   \n",
            "\n",
            "              area  \n",
            "count   517.000000  \n",
            "mean     12.847292  \n",
            "std      63.655818  \n",
            "min       0.000000  \n",
            "25%       0.000000  \n",
            "50%       0.520000  \n",
            "75%       6.570000  \n",
            "max    1090.840000  \n"
          ]
        }
      ]
    },
    {
      "cell_type": "code",
      "metadata": {
        "id": "0UJmQBSteUfH",
        "outputId": "09d206fb-1b22-4769-fcf3-4eea05605d06",
        "colab": {
          "base_uri": "https://localhost:8080/"
        }
      },
      "source": [
        "print(\"Studying the correlation about the columns and data\")\n",
        "print(df.corr(method=\"pearson\"))"
      ],
      "execution_count": 16,
      "outputs": [
        {
          "output_type": "stream",
          "name": "stdout",
          "text": [
            "Studying the correlation about the columns and data\n",
            "              X         Y     month       day      FFMC       DMC        DC  \\\n",
            "X      1.000000  0.539548 -0.065003 -0.024922 -0.021039 -0.048384 -0.085916   \n",
            "Y      0.539548  1.000000 -0.066292 -0.005453 -0.046308  0.007782 -0.101178   \n",
            "month -0.065003 -0.066292  1.000000 -0.050837  0.291477  0.466645  0.868698   \n",
            "day   -0.024922 -0.005453 -0.050837  1.000000 -0.041068  0.062870  0.000105   \n",
            "FFMC  -0.021039 -0.046308  0.291477 -0.041068  1.000000  0.382619  0.330512   \n",
            "DMC   -0.048384  0.007782  0.466645  0.062870  0.382619  1.000000  0.682192   \n",
            "DC    -0.085916 -0.101178  0.868698  0.000105  0.330512  0.682192  1.000000   \n",
            "ISI    0.006210 -0.024488  0.186597  0.032909  0.531805  0.305128  0.229154   \n",
            "temp  -0.051258 -0.024103  0.368842  0.052190  0.431532  0.469594  0.496208   \n",
            "RH     0.085223  0.062221 -0.095280  0.092151 -0.300995  0.073795 -0.039192   \n",
            "wind   0.018798 -0.020341 -0.086368  0.032478 -0.028485 -0.105342 -0.203466   \n",
            "rain   0.065387  0.033234  0.013438 -0.048340  0.056702  0.074790  0.035861   \n",
            "area   0.063385  0.044873  0.056496  0.023226  0.040122  0.072994  0.049383   \n",
            "\n",
            "            ISI      temp        RH      wind      rain      area  \n",
            "X      0.006210 -0.051258  0.085223  0.018798  0.065387  0.063385  \n",
            "Y     -0.024488 -0.024103  0.062221 -0.020341  0.033234  0.044873  \n",
            "month  0.186597  0.368842 -0.095280 -0.086368  0.013438  0.056496  \n",
            "day    0.032909  0.052190  0.092151  0.032478 -0.048340  0.023226  \n",
            "FFMC   0.531805  0.431532 -0.300995 -0.028485  0.056702  0.040122  \n",
            "DMC    0.305128  0.469594  0.073795 -0.105342  0.074790  0.072994  \n",
            "DC     0.229154  0.496208 -0.039192 -0.203466  0.035861  0.049383  \n",
            "ISI    1.000000  0.394287 -0.132517  0.106826  0.067668  0.008258  \n",
            "temp   0.394287  1.000000 -0.527390 -0.227116  0.069491  0.097844  \n",
            "RH    -0.132517 -0.527390  1.000000  0.069410  0.099751 -0.075519  \n",
            "wind   0.106826 -0.227116  0.069410  1.000000  0.061119  0.012317  \n",
            "rain   0.067668  0.069491  0.099751  0.061119  1.000000 -0.007366  \n",
            "area   0.008258  0.097844 -0.075519  0.012317 -0.007366  1.000000  \n"
          ]
        }
      ]
    }
  ]
}