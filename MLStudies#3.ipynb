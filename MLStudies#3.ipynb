{
  "nbformat": 4,
  "nbformat_minor": 0,
  "metadata": {
    "colab": {
      "name": "Untitled3.ipynb",
      "provenance": [],
      "include_colab_link": true
    },
    "kernelspec": {
      "name": "python3",
      "display_name": "Python 3"
    },
    "language_info": {
      "name": "python"
    }
  },
  "cells": [
    {
      "cell_type": "markdown",
      "metadata": {
        "id": "view-in-github",
        "colab_type": "text"
      },
      "source": [
        "<a href=\"https://colab.research.google.com/github/mcozono/ml-data-studies/blob/main/MLStudies%233.ipynb\" target=\"_parent\"><img src=\"https://colab.research.google.com/assets/colab-badge.svg\" alt=\"Open In Colab\"/></a>"
      ]
    },
    {
      "cell_type": "markdown",
      "metadata": {
        "id": "974c81K0B8HY"
      },
      "source": [
        "#using Numpy\n"
      ]
    },
    {
      "cell_type": "code",
      "metadata": {
        "id": "5CPH1GrpCAkE"
      },
      "source": [
        "import numpy as np\n"
      ],
      "execution_count": 9,
      "outputs": []
    },
    {
      "cell_type": "code",
      "metadata": {
        "id": "ptnqVuqvCEoM",
        "outputId": "4b9e48da-c1d8-48f1-8159-3a2666d2883d",
        "colab": {
          "base_uri": "https://localhost:8080/"
        }
      },
      "source": [
        "pythonArray = [[1,2,3],[9,8,7]]\n",
        "npArray = np.array(pythonArray)\n",
        "print(npArray.shape)\n",
        "print(npArray[0])\n",
        "print(npArray[0,:])"
      ],
      "execution_count": 18,
      "outputs": [
        {
          "output_type": "stream",
          "name": "stdout",
          "text": [
            "(2, 3)\n",
            "[1 2 3]\n",
            "[1 2 3]\n"
          ]
        }
      ]
    },
    {
      "cell_type": "markdown",
      "metadata": {
        "id": "fyurr1Vi3SlQ"
      },
      "source": [
        "Module 2"
      ]
    },
    {
      "cell_type": "code",
      "metadata": {
        "id": "q2OAqk7SyTm1",
        "outputId": "77f98c65-2f98-4045-8980-c4e84afa5fd9",
        "colab": {
          "base_uri": "https://localhost:8080/"
        }
      },
      "source": [
        "print(\"Building Your First ML Solution\")"
      ],
      "execution_count": 1,
      "outputs": [
        {
          "output_type": "stream",
          "name": "stdout",
          "text": [
            "Building Your First ML Solution\n"
          ]
        }
      ]
    },
    {
      "cell_type": "markdown",
      "metadata": {
        "id": "0ODwS22t3g4N"
      },
      "source": [
        "#Module 3"
      ]
    },
    {
      "cell_type": "code",
      "metadata": {
        "id": "eOpe8S843gN_"
      },
      "source": [
        "import pandas as pd\n"
      ],
      "execution_count": 3,
      "outputs": []
    },
    {
      "cell_type": "code",
      "metadata": {
        "id": "sR23nXgv9SVe"
      },
      "source": [
        "filename = \"/content/forestfires.csv\"\n",
        "names = ['X','Y','month','day','FFMC','DMC','DC',\n",
        "         'ISI','temp','RH','wind','rain','area']"
      ],
      "execution_count": 6,
      "outputs": []
    },
    {
      "cell_type": "code",
      "metadata": {
        "id": "IXEovkJR-JRX",
        "outputId": "705b3b07-206d-4d59-98ab-8efb7d8dc7c0",
        "colab": {
          "base_uri": "https://localhost:8080/"
        }
      },
      "source": [
        "df = pd.read_csv(filename,names=names)\n",
        "print(pd.isnull(df).sum())"
      ],
      "execution_count": 8,
      "outputs": [
        {
          "output_type": "stream",
          "name": "stdout",
          "text": [
            "X        0\n",
            "Y        0\n",
            "month    0\n",
            "day      0\n",
            "FFMC     0\n",
            "DMC      0\n",
            "DC       0\n",
            "ISI      0\n",
            "temp     0\n",
            "RH       0\n",
            "wind     0\n",
            "rain     0\n",
            "area     0\n",
            "dtype: int64\n"
          ]
        }
      ]
    },
    {
      "cell_type": "code",
      "metadata": {
        "id": "UlVdeSGV-hzX"
      },
      "source": [
        ""
      ],
      "execution_count": null,
      "outputs": []
    }
  ]
}